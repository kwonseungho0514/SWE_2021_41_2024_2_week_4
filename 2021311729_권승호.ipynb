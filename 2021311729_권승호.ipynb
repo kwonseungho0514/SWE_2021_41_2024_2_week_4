{
  "nbformat": 4,
  "nbformat_minor": 0,
  "metadata": {
    "colab": {
      "provenance": []
    },
    "kernelspec": {
      "name": "python3",
      "display_name": "Python 3"
    },
    "language_info": {
      "name": "python"
    }
  },
  "cells": [
    {
      "cell_type": "markdown",
      "source": [
        "## Task\n",
        "- Complete **isHappy** function following the description below\n",
        "\n",
        "### Happy Number\n",
        "Write an algorithm to determine if a number **n** is happy.\n",
        "\n",
        "A **happy number** is a number defined by the following process:\n",
        "\n",
        "* Starting with any positive integer, replace the number by the sum of the squares of its digits.\n",
        "* Repeat the process until the number equals 1 (where it will stay), or it **loops endlessly in a cycle** which does not include 1.\n",
        "* Those numbers for which this process **ends in 1** are happy.\n",
        "\n",
        "Return **true** if n is a happy number, and **false** if not.\n",
        "\n",
        "Constraints:\n",
        "1 <= n <= $2^{31}$ - 1"
      ],
      "metadata": {
        "id": "TV3Socqg8BVl"
      }
    },
    {
      "cell_type": "code",
      "execution_count": 30,
      "metadata": {
        "id": "5FcxitVf5kdQ",
        "colab": {
          "base_uri": "https://localhost:8080/"
        },
        "outputId": "4ebda971-66d8-466a-89dc-ce1ed5581a07"
      },
      "outputs": [
        {
          "output_type": "stream",
          "name": "stdout",
          "text": [
            "19\n",
            "[19, 82, 68, 100, 1]\n",
            "True\n"
          ]
        }
      ],
      "source": [
        "history = []\n",
        "\n",
        "def isHappy(n):\n",
        "  if (n < 1 or n > pow(2,31) - 1):\n",
        "    return False\n",
        "\n",
        "  while(in_history(n) != True):\n",
        "    history.append(n)\n",
        "    n = next_n(n)\n",
        "\n",
        "  if (n == 1):\n",
        "    return True\n",
        "  else:\n",
        "        return False\n",
        "\n",
        "def in_history(n):\n",
        "  for i in range(len(history)):\n",
        "    if (n == history[i]):\n",
        "      return True\n",
        "  return False\n",
        "\n",
        "def next_n(n):\n",
        "  nums = []\n",
        "  sum = 0\n",
        "\n",
        "  while(n != 0):\n",
        "    nums.append(n % 10)\n",
        "    n= n // 10\n",
        "  for i in range(len(nums)):\n",
        "    sum += nums[i] * nums[i]\n",
        "  return sum\n",
        "\n",
        "num = (int)(input())\n",
        "print(isHappy(num))"
      ]
    },
    {
      "cell_type": "markdown",
      "source": [
        "**Testcase 1.**\n",
        "\n",
        "**Input**: 19\n",
        "\n",
        "**Output**: True\n",
        "\n",
        "**Explanation**:\n",
        "\n",
        "$1^2 + 9^2 = 82$\n",
        "\n",
        "$8^2 + 2^2 = 68$\n",
        "\n",
        "$6^2 + 8^2 = 100$\n",
        "\n",
        "$1^2 + 0^2 + 0^2 = 1$"
      ],
      "metadata": {
        "id": "eRrh24Ognrqf"
      }
    },
    {
      "cell_type": "markdown",
      "source": [
        "**Testcase 2.**\n",
        "\n",
        "**Input**: 2\n",
        "\n",
        "**Output**: False"
      ],
      "metadata": {
        "id": "dE7YMY8qoPoj"
      }
    }
  ]
}